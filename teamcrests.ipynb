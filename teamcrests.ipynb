{
 "cells": [
  {
   "cell_type": "code",
   "execution_count": 1,
   "id": "68cecc77-c2ae-4b9b-81d5-01ef31293475",
   "metadata": {},
   "outputs": [
    {
     "name": "stdout",
     "output_type": "stream",
     "text": [
      "Downloaded UEFA(host) crest as team_crests/UEFA(host).png\n",
      "Downloaded CAF crest as team_crests/CAF.png\n",
      "Downloaded CAF crest as team_crests/CAF.png\n",
      "Downloaded AFC crest as team_crests/AFC.png\n",
      "Downloaded AFC crest as team_crests/AFC.png\n",
      "Downloaded UEFA crest as team_crests/UEFA.png\n",
      "Downloaded UEFA crest as team_crests/UEFA.png\n",
      "Downloaded CONCACAF crest as team_crests/CONCACAF.png\n",
      "Downloaded CONCACAF crest as team_crests/CONCACAF.png\n",
      "Downloaded OFC crest as team_crests/OFC.png\n",
      "Downloaded CONMEBOL crest as team_crests/CONMEBOL.png\n",
      "Downloaded CONMEBOL crest as team_crests/CONMEBOL.png\n"
     ]
    }
   ],
   "source": [
    "import requests\n",
    "from bs4 import BeautifulSoup\n",
    "from PIL import Image\n",
    "from io import BytesIO\n",
    "import os\n",
    "\n",
    "# URL of the Wikipedia page with the list of teams and their crests\n",
    "url = \"https://en.wikipedia.org/wiki/2001_FIFA_Club_World_Championship\"\n",
    "\n",
    "# Directory to save the team crests\n",
    "image_dir = \"team_crests\"\n",
    "if not os.path.exists(image_dir):\n",
    "    os.makedirs(image_dir)\n",
    "\n",
    "# Function to fetch and save the team crests\n",
    "def fetch_team_crest(team_name, img_url):\n",
    "    try:\n",
    "        # Download the image from the URL\n",
    "        img_response = requests.get(img_url)\n",
    "        img = Image.open(BytesIO(img_response.content))\n",
    "        \n",
    "        # Save the image with the team's name\n",
    "        image_path = os.path.join(image_dir, f\"{team_name}.png\")\n",
    "        img.save(image_path)\n",
    "        print(f\"Downloaded {team_name} crest as {image_path}\")\n",
    "    except Exception as e:\n",
    "        print(f\"Error downloading image for {team_name}: {e}\")\n",
    "\n",
    "# Fetch the page content\n",
    "response = requests.get(url)\n",
    "soup = BeautifulSoup(response.text, 'html.parser')\n",
    "\n",
    "# Find the table containing the teams and their logos\n",
    "table = soup.find('table', {'class': 'wikitable'})\n",
    "\n",
    "# Loop through the rows in the table to extract team names and their crest URLs\n",
    "for row in table.find_all('tr')[1:]:  # Skip the header row\n",
    "    columns = row.find_all('td')\n",
    "    \n",
    "    if len(columns) >= 2:\n",
    "        # Extract the team name\n",
    "        team_name = columns[1].get_text(strip=True)\n",
    "        \n",
    "        # Find the image (team crest) URL\n",
    "        img_tag = columns[0].find('img')\n",
    "        if img_tag and 'src' in img_tag.attrs:\n",
    "            img_url = \"https:\" + img_tag.attrs['src']\n",
    "            \n",
    "            # Fetch and save the crest\n",
    "            fetch_team_crest(team_name, img_url)\n"
   ]
  },
  {
   "cell_type": "code",
   "execution_count": null,
   "id": "cc316e13-7342-44b5-84b7-5ad481f54d73",
   "metadata": {},
   "outputs": [],
   "source": []
  }
 ],
 "metadata": {
  "kernelspec": {
   "display_name": "Python 3 (ipykernel)",
   "language": "python",
   "name": "python3"
  },
  "language_info": {
   "codemirror_mode": {
    "name": "ipython",
    "version": 3
   },
   "file_extension": ".py",
   "mimetype": "text/x-python",
   "name": "python",
   "nbconvert_exporter": "python",
   "pygments_lexer": "ipython3",
   "version": "3.11.7"
  }
 },
 "nbformat": 4,
 "nbformat_minor": 5
}
